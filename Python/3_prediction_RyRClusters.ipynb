{
 "cells": [
  {
   "cell_type": "markdown",
   "metadata": {},
   "source": [
    "**In case of problems or questions, please first check the list of [Frequently Asked Questions (FAQ)](https://stardist.net/docs/faq.html).**\n",
    "\n",
    "Please shutdown all other training/prediction notebooks before running this notebook (as those might occupy the GPU memory otherwise)."
   ]
  },
  {
   "cell_type": "code",
   "execution_count": 1,
   "metadata": {},
   "outputs": [],
   "source": [
    "from __future__ import print_function, unicode_literals, absolute_import, division\n",
    "import sys\n",
    "import numpy as np\n",
    "import matplotlib\n",
    "matplotlib.rcParams[\"image.interpolation\"] = 'none'\n",
    "import matplotlib.pyplot as plt\n",
    "%matplotlib inline\n",
    "%config InlineBackend.figure_format = 'retina'\n",
    "\n",
    "from glob import glob\n",
    "from tifffile import imread\n",
    "from csbdeep.utils import Path, normalize\n",
    "from csbdeep.io import save_tiff_imagej_compatible\n",
    "\n",
    "from stardist import random_label_cmap\n",
    "from stardist.models import StarDist3D\n",
    "\n",
    "np.random.seed(6)\n",
    "lbl_cmap = random_label_cmap()"
   ]
  },
  {
   "cell_type": "code",
   "execution_count": 2,
   "metadata": {},
   "outputs": [
    {
     "name": "stdout",
     "output_type": "stream",
     "text": [
      "[PhysicalDevice(name='/physical_device:GPU:0', device_type='GPU')]\n"
     ]
    }
   ],
   "source": [
    "import tensorflow as tf\n",
    "print(tf.config.list_physical_devices('GPU'))"
   ]
  },
  {
   "cell_type": "markdown",
   "metadata": {},
   "source": [
    "# Data\n",
    "\n",
    "We assume that data has already been downloaded in via notebook [1_data.ipynb](1_data.ipynb).  \n",
    "We now load images from the sub-folder `test` that have not been used during training."
   ]
  },
  {
   "cell_type": "code",
   "execution_count": 3,
   "metadata": {},
   "outputs": [],
   "source": [
    "file_list = sorted(glob(r'E:\\RABBIT_DATA\\CLAHE+3DMED\\*.tif', recursive=True))"
   ]
  },
  {
   "cell_type": "code",
   "execution_count": null,
   "metadata": {},
   "outputs": [],
   "source": [
    "for file in file_list:\n",
    "    \n",
    "    X = [file]\n",
    "    \n",
    "    cell_name = (file.split('\\\\')[-1].split('.tiff')[0])\n",
    "    print(\"Processing: \", file)\n",
    "    \n",
    "    print(X[0], cell_name)\n",
    "    \n",
    "    X = list(map(imread,X))\n",
    "\n",
    "    n_channel = 1 if X[0].ndim == 3 else X[0].shape[-1]\n",
    "    axis_norm = (0,1,2)   # normalize channels independently\n",
    "    if n_channel > 1:\n",
    "        print(\"Normalizing image channels %s.\" % ('jointly' if axis_norm is None or 2 in axis_norm else 'independently'))\n",
    "      \n",
    "    demo_model = False\n",
    "\n",
    "    if demo_model:\n",
    "        model = StarDist3D.from_pretrained('3D_demo')\n",
    "    else:\n",
    "        model = StarDist3D(None, name='stardist', basedir='models')\n",
    "    None;\n",
    "\n",
    "\n",
    "    img = normalize(X[0], 1, 99.8, axis=axis_norm)\n",
    "    \n",
    "    print(img.shape)\n",
    "    \n",
    "    labels, details = model.predict_instances(img, n_tiles=model._guess_n_tiles(img))\n",
    "\n",
    "    ## Save predictions\n",
    "    print(\"Saving: \", file)\n",
    "    filename = r'E:\\RABBIT_RESULTS\\\\' + cell_name + '_cluster_labels.tif'\n",
    "    save_tiff_imagej_compatible(filename, labels, axes='ZYX')"
   ]
  },
  {
   "cell_type": "code",
   "execution_count": null,
   "metadata": {},
   "outputs": [],
   "source": []
  }
 ],
 "metadata": {
  "kernelspec": {
   "display_name": "Python 3 (ipykernel)",
   "language": "python",
   "name": "python3"
  },
  "language_info": {
   "codemirror_mode": {
    "name": "ipython",
    "version": 3
   },
   "file_extension": ".py",
   "mimetype": "text/x-python",
   "name": "python",
   "nbconvert_exporter": "python",
   "pygments_lexer": "ipython3",
   "version": "3.10.14"
  }
 },
 "nbformat": 4,
 "nbformat_minor": 4
}
